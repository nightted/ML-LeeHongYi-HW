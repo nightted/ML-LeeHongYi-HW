{
 "cells": [
  {
   "cell_type": "code",
   "execution_count": 52,
   "metadata": {},
   "outputs": [],
   "source": [
    "import numpy as np\n",
    "\n",
    "a = np.arange(9).reshape(3,3)\n",
    "\n",
    "d = np.array([[1,2,3]])\n",
    "e = np.array([[1],[2],[3]])\n",
    "f = np.array([[1,1,1],[2,2,2],[3,3,3]])\n",
    "\n",
    "\n",
    "\n"
   ]
  },
  {
   "cell_type": "code",
   "execution_count": 38,
   "metadata": {},
   "outputs": [
    {
     "data": {
      "text/plain": [
       "array([[1.        , 0.5       , 0.33333333],\n",
       "       [2.        , 1.        , 0.66666667],\n",
       "       [3.        , 1.5       , 1.        ]])"
      ]
     },
     "execution_count": 38,
     "metadata": {},
     "output_type": "execute_result"
    }
   ],
   "source": [
    "e/d"
   ]
  },
  {
   "cell_type": "code",
   "execution_count": 39,
   "metadata": {},
   "outputs": [
    {
     "data": {
      "text/plain": [
       "array([[1.        , 0.5       , 0.33333333],\n",
       "       [2.        , 1.        , 0.66666667],\n",
       "       [3.        , 1.5       , 1.        ]])"
      ]
     },
     "execution_count": 39,
     "metadata": {},
     "output_type": "execute_result"
    }
   ],
   "source": [
    "f/d"
   ]
  },
  {
   "cell_type": "code",
   "execution_count": 74,
   "metadata": {},
   "outputs": [
    {
     "data": {
      "text/plain": [
       "0.0"
      ]
     },
     "execution_count": 74,
     "metadata": {},
     "output_type": "execute_result"
    }
   ],
   "source": [
    "w = np.zeros((3,)) "
   ]
  },
  {
   "cell_type": "code",
   "execution_count": 51,
   "metadata": {},
   "outputs": [
    {
     "name": "stdout",
     "output_type": "stream",
     "text": [
      "原數組：\n",
      "[[[ 0  1  2]\n",
      "  [ 3  4  5]\n",
      "  [ 6  7  8]]\n",
      "\n",
      " [[ 9 10 11]\n",
      "  [12 13 14]\n",
      "  [15 16 17]]\n",
      "\n",
      " [[18 19 20]\n",
      "  [21 22 23]\n",
      "  [24 25 26]]]\n",
      "\n",
      "\n",
      "調用 swapaxes 函數後的數組：\n",
      "[[[ 0  3  6]\n",
      "  [ 1  4  7]\n",
      "  [ 2  5  8]]\n",
      "\n",
      " [[ 9 12 15]\n",
      "  [10 13 16]\n",
      "  [11 14 17]]\n",
      "\n",
      " [[18 21 24]\n",
      "  [19 22 25]\n",
      "  [20 23 26]]]\n"
     ]
    }
   ],
   "source": [
    "# 創建了三維的 ndarray\n",
    "import numpy as np\n",
    "a = np.arange(27).reshape(3,3,3)\n",
    "\n",
    "print ('原數組：')\n",
    "print (a)\n",
    "print ('\\n')\n",
    "# 現在交換軸 0(深度方向)到軸 2(寬度方向)\n",
    "\n",
    "print ('調用 swapaxes 函數後的數組：')\n",
    "print (np.swapaxes(a, 2, 1))"
   ]
  },
  {
   "cell_type": "code",
   "execution_count": null,
   "metadata": {},
   "outputs": [],
   "source": []
  }
 ],
 "metadata": {
  "kernelspec": {
   "display_name": "Python 3",
   "language": "python",
   "name": "python3"
  },
  "language_info": {
   "codemirror_mode": {
    "name": "ipython",
    "version": 3
   },
   "file_extension": ".py",
   "mimetype": "text/x-python",
   "name": "python",
   "nbconvert_exporter": "python",
   "pygments_lexer": "ipython3",
   "version": "3.7.6"
  }
 },
 "nbformat": 4,
 "nbformat_minor": 4
}
