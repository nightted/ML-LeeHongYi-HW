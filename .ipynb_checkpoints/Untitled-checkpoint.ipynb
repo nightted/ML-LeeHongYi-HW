{
 "cells": [
  {
   "cell_type": "code",
   "execution_count": 1,
   "metadata": {},
   "outputs": [],
   "source": [
    "import numpy as np"
   ]
  },
  {
   "cell_type": "code",
   "execution_count": 4,
   "metadata": {},
   "outputs": [],
   "source": [
    "def accurrcy(y_pred,y_train):\n",
    "    \n",
    "    data_dim = len(y_pred)\n",
    "    return 1-sum(np.round(abs(y_pred-y_train)))/data_dim"
   ]
  },
  {
   "cell_type": "code",
   "execution_count": 6,
   "metadata": {},
   "outputs": [
    {
     "data": {
      "text/plain": [
       "0.6666666666666667"
      ]
     },
     "execution_count": 6,
     "metadata": {},
     "output_type": "execute_result"
    }
   ],
   "source": [
    "a = np.array([1,0,0,1,0,1])\n",
    "b = np.array([0.6,0.2,0.8,0.9,0.45,0.1])\n",
    "accurrcy(a,b)"
   ]
  },
  {
   "cell_type": "code",
   "execution_count": 9,
   "metadata": {},
   "outputs": [
    {
     "name": "stdout",
     "output_type": "stream",
     "text": [
      "[3, 2, 0, 1]\n"
     ]
    },
    {
     "data": {
      "text/plain": [
       "(array([[4., 4., 4., 4.],\n",
       "        [3., 3., 3., 3.],\n",
       "        [1., 1., 1., 1.],\n",
       "        [2., 2., 2., 2.]]),\n",
       " array([8., 7., 5., 6.]))"
      ]
     },
     "execution_count": 9,
     "metadata": {},
     "output_type": "execute_result"
    }
   ],
   "source": [
    "import random\n",
    "import numpy as np\n",
    "\n",
    "#Shuffle test\n",
    "def shuffle(X_data,Y_data):\n",
    "    \n",
    "    data_len = X_data.shape[0]\n",
    "    random_pri = []\n",
    "    li = list(range(data_len))\n",
    "    \n",
    "    while len(li)>0 :\n",
    "        \n",
    "        select = random.randint(0,len(li)-1)\n",
    "        random_pri.append(li.pop(select))\n",
    "    \n",
    "    print(random_pri)\n",
    "    X_data_new = np.zeros((X_data.shape[0],X_data.shape[1]))\n",
    "    Y_data_new = np.zeros(Y_data.shape[0])\n",
    "    \n",
    "    for i in range(len(random_pri)):\n",
    "        \n",
    "            X_data_new[i] = X_data[random_pri[i]]\n",
    "            Y_data_new[i] = Y_data[random_pri[i]]\n",
    "            \n",
    "    return X_data_new , Y_data_new\n",
    "\n",
    "X = np.array([[1,1,1,1],[2,2,2,2],[3,3,3,3],[4,4,4,4]])\n",
    "Y = np.array([5,6,7,8])\n",
    "shuffle(X,Y)"
   ]
  },
  {
   "cell_type": "code",
   "execution_count": 6,
   "metadata": {},
   "outputs": [
    {
     "data": {
      "text/plain": [
       "array([[0.],\n",
       "       [0.],\n",
       "       [0.],\n",
       "       [0.],\n",
       "       [0.]])"
      ]
     },
     "execution_count": 6,
     "metadata": {},
     "output_type": "execute_result"
    }
   ],
   "source": [
    "X = np.array([[1,1,1,1],[2,2,2,2],[3,3,3,3],[4,4,4,4]])\n",
    "Z = np.zeros((5,1))\n",
    "Z"
   ]
  },
  {
   "cell_type": "code",
   "execution_count": null,
   "metadata": {},
   "outputs": [],
   "source": []
  }
 ],
 "metadata": {
  "kernelspec": {
   "display_name": "Python 3",
   "language": "python",
   "name": "python3"
  },
  "language_info": {
   "codemirror_mode": {
    "name": "ipython",
    "version": 3
   },
   "file_extension": ".py",
   "mimetype": "text/x-python",
   "name": "python",
   "nbconvert_exporter": "python",
   "pygments_lexer": "ipython3",
   "version": "3.7.6"
  }
 },
 "nbformat": 4,
 "nbformat_minor": 4
}
