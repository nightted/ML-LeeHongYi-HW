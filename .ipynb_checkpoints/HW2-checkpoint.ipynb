{
 "cells": [
  {
   "cell_type": "markdown",
   "metadata": {},
   "source": [
    "# Data input and reshape"
   ]
  },
  {
   "cell_type": "code",
   "execution_count": 3,
   "metadata": {},
   "outputs": [],
   "source": [
    "import numpy as np\n",
    "\n",
    "np.random.seed(0)\n",
    "X_train_fpath = './data/X_train'\n",
    "Y_train_fpath = './data/Y_train'\n",
    "X_test_fpath = './data/X_test'\n",
    "output_fpath = './output_{}.csv'\n",
    "\n",
    "# Totally 54256 (number of data) X 511 (number of feat.)\n",
    "# Parse csv files to numpy array\n",
    "with open(X_train_fpath) as f:\n",
    "    # next() 的原因是不需要 feature 那行 \n",
    "    next(f)\n",
    "    #一行代表一個 data , strip 掉換行符號後,再把每個 data的 feature 弄成 list\n",
    "    X_train = np.array([line.strip('\\n').split(',')[1:] for line in f], dtype = float)\n",
    "with open(Y_train_fpath) as f:\n",
    "    next(f)\n",
    "    Y_train = np.array([line.strip('\\n').split(',')[1] for line in f], dtype = float)\n",
    "with open(X_test_fpath) as f:\n",
    "    next(f)\n",
    "    X_test = np.array([line.strip('\\n').split(',')[1:] for line in f], dtype = float)\n",
    "    \n",
    "\n",
    "X_mean = np.mean(X_train[:,:],axis=0).reshape(1,-1) #reshpae(1,-1) 代表 row 搞成一列 , column -1 的意思是 column 數自動補齊計算.\n",
    "X_std = np.std(X_train[:,:],axis=0).reshape(1,-1)\n",
    "\n"
   ]
  },
  {
   "cell_type": "markdown",
   "metadata": {},
   "source": [
    "# Split validate data"
   ]
  },
  {
   "cell_type": "code",
   "execution_count": 6,
   "metadata": {},
   "outputs": [
    {
     "name": "stdout",
     "output_type": "stream",
     "text": [
      "Validate_shape: (5426, 510) (5426,) Training_shape: (48830, 510) (48830,)\n"
     ]
    }
   ],
   "source": [
    "Split_ratio = 0.1\n",
    "Validate_len = int(np.round(Split_ratio*X_train.shape[0]))\n",
    "\n",
    "X_validate = X_train[:Validate_len,:]\n",
    "Y_validate = Y_train[:Validate_len]\n",
    "X_training = X_train[Validate_len:,:]\n",
    "Y_training = Y_train[Validate_len:]\n",
    "\n",
    "print (\"Validate_shape:\",X_validate.shape,Y_validate.shape,\"Training_shape:\",X_training.shape,Y_training.shape)"
   ]
  },
  {
   "cell_type": "markdown",
   "metadata": {},
   "source": [
    "# Normalize Training data "
   ]
  },
  {
   "cell_type": "code",
   "execution_count": 7,
   "metadata": {},
   "outputs": [
    {
     "name": "stdout",
     "output_type": "stream",
     "text": [
      "(48830, 510) (5426, 510) (27622, 510)\n"
     ]
    },
    {
     "name": "stderr",
     "output_type": "stream",
     "text": [
      "C:\\Users\\h5904\\anaconda3\\lib\\site-packages\\ipykernel_launcher.py:3: RuntimeWarning: invalid value encountered in true_divide\n",
      "  This is separate from the ipykernel package so we can avoid doing imports until\n"
     ]
    }
   ],
   "source": [
    "X_training = (X_training[:,:] - X_mean) / (X_std+1e-8)\n",
    "X_validate = (X_validate[:,:] - X_mean) / (X_std+1e-8)\n",
    "X_test = (X_test[:,:] - X_mean) / X_std # test data must normalized with the mean & std of training data\n",
    "print(X_training.shape,X_validate.shape,X_test.shape)"
   ]
  },
  {
   "cell_type": "code",
   "execution_count": 8,
   "metadata": {},
   "outputs": [
    {
     "name": "stdout",
     "output_type": "stream",
     "text": [
      "Size of training data:48830\n",
      "Size of validate data:5426\n",
      "Size of testing data:27622\n",
      "Data dimension:510\n"
     ]
    }
   ],
   "source": [
    "train_size = X_training.shape[0]\n",
    "Validate_size = X_validate.shape[0]\n",
    "test_size = X_test.shape[0]\n",
    "data_dim = X_train.shape[1]\n",
    "\n",
    "print('Size of training data:{}'.format(train_size))\n",
    "print('Size of validate data:{}'.format(Validate_size))\n",
    "print('Size of testing data:{}'.format(test_size))\n",
    "print('Data dimension:{}'.format(data_dim))"
   ]
  },
  {
   "cell_type": "markdown",
   "metadata": {},
   "source": [
    "# Define the function of training"
   ]
  },
  {
   "cell_type": "code",
   "execution_count": 10,
   "metadata": {},
   "outputs": [],
   "source": [
    "def shuffle(X_data,Y_data):\n",
    "    \n",
    "    data_len = X_data.shape[0]\n",
    "    index = np.arrange(data_len)\n",
    "    ###\n",
    "    #randomize algorithm#\n",
    "    ###\n",
    "\n",
    "#Calculate Cross Entropy of all data\n",
    "def CrossEntorpy(y_hat,y_predict):\n",
    "    \n",
    "    return -(y_hat@np.log(y_predict)+(1-y_hat)@(1-np.log(y_predict)))\n",
    "\n",
    "def sigmoid(z) :\n",
    "    \n",
    "    return np.clip(1/(1+np.exp(-z)),1e-8,1-1e-8)\n",
    "\n",
    "def sigmoid_linearinput(X,w,b):\n",
    "    \n",
    "    linear = X@w+b\n",
    "    return sigmoid(linear)\n",
    "\n",
    "def gradient(y_hat,X,w,b):\n",
    "    \n",
    "    y_pred = sigmoid_linearinput(X,w,b)\n",
    "    return -1*X.T@(y_hat - y_pred) , -1*np.sum(y_hat - y_pred)\n",
    "\n",
    "#Calculate the accuracy of model \n",
    "def accuracy(y_pred,y_train):\n",
    "    \n",
    "    return 1-sum(np.round(abs(y_pred-y_train)))/data_dim*100\n",
    "\n",
    "#The main training process\n",
    "def trianing(epoch, y_hat, w=None, b=None, X_training=X_training, X_validate=X_validate, lr = 0.2, mini_batch_size = 1000):\n",
    "    \n",
    "    w = np.zeros(X.shape[1])\n",
    "    b = np.zeros(1)\n",
    "    G_w = np.zeros(X.shape[1])\n",
    "    G_b = np.zeros(1)\n",
    "    \n",
    "    for i in range(epoch):\n",
    "        \n",
    "        for batch_count in range(int(floor(X_training.shape[0]/mini_batch_size))+1):\n",
    "            \n",
    "            X = X_training[batch_count*mini_batch_size:batch_count*(mini_batch_size+1),:]\n",
    "            \n",
    "            w_grad , b_grad = gradient(y_hat,X,w,b)\n",
    "            G_W += w_grad**2\n",
    "            G_b += b_grad**2\n",
    "            \n",
    "            w = w - lr/G_w*w_grad\n",
    "            b = b - lr/G_b*b_grad\n",
    "            \n",
    "            \n",
    "            \n",
    "            \n",
    "            \n",
    "            \n",
    "            \n"
   ]
  },
  {
   "cell_type": "code",
   "execution_count": null,
   "metadata": {},
   "outputs": [],
   "source": []
  }
 ],
 "metadata": {
  "kernelspec": {
   "display_name": "Python 3",
   "language": "python",
   "name": "python3"
  },
  "language_info": {
   "codemirror_mode": {
    "name": "ipython",
    "version": 3
   },
   "file_extension": ".py",
   "mimetype": "text/x-python",
   "name": "python",
   "nbconvert_exporter": "python",
   "pygments_lexer": "ipython3",
   "version": "3.7.6"
  }
 },
 "nbformat": 4,
 "nbformat_minor": 4
}
