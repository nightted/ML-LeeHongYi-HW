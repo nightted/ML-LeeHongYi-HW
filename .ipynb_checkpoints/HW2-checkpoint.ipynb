{
 "cells": [
  {
   "cell_type": "markdown",
   "metadata": {},
   "source": [
    "# Data input and reshape"
   ]
  },
  {
   "cell_type": "code",
   "execution_count": 31,
   "metadata": {},
   "outputs": [],
   "source": [
    "import numpy as np\n",
    "\n",
    "np.random.seed(0)\n",
    "X_train_fpath = './data/X_train'\n",
    "Y_train_fpath = './data/Y_train'\n",
    "X_test_fpath = './data/X_test'\n",
    "output_fpath = './output_{}.csv'\n",
    "\n",
    "# Totally 54256 (number of data) X 511 (number of feat.)\n",
    "# Parse csv files to numpy array\n",
    "with open(X_train_fpath) as f:\n",
    "    # next() 的原因是不需要 feature 那行 \n",
    "    next(f)\n",
    "    #一行代表一個 data , strip 掉換行符號後,再把每個 data的 feature 弄成 list\n",
    "    X_train = np.array([line.strip('\\n').split(',')[1:] for line in f], dtype = float)\n",
    "with open(Y_train_fpath) as f:\n",
    "    next(f)\n",
    "    Y_train = np.array([line.strip('\\n').split(',')[1] for line in f], dtype = float)\n",
    "with open(X_test_fpath) as f:\n",
    "    next(f)\n",
    "    X_test = np.array([line.strip('\\n').split(',')[1:] for line in f], dtype = float)\n",
    "    \n",
    "\n",
    "X_mean = np.mean(X_train[:,:],axis=0).reshape(1,-1) #reshpae(1,-1) 代表 row 搞成一列 , column -1 的意思是 column 數自動補齊計算.\n",
    "X_std = np.std(X_train[:,:],axis=0).reshape(1,-1)\n",
    "\n"
   ]
  },
  {
   "cell_type": "markdown",
   "metadata": {},
   "source": [
    "# Split validate data"
   ]
  },
  {
   "cell_type": "code",
   "execution_count": 32,
   "metadata": {},
   "outputs": [
    {
     "name": "stdout",
     "output_type": "stream",
     "text": [
      "Validate_shape: (5426, 510) (5426,) Training_shape: (48830, 510) (48830,)\n"
     ]
    }
   ],
   "source": [
    "Split_ratio = 0.1\n",
    "Validate_len = int(np.round(Split_ratio*X_train.shape[0]))\n",
    "\n",
    "X_validate = X_train[:Validate_len,:]\n",
    "Y_validate = Y_train[:Validate_len]\n",
    "X_training = X_train[Validate_len:,:]\n",
    "Y_training = Y_train[Validate_len:]\n",
    "\n",
    "print (\"Validate_shape:\",X_validate.shape,Y_validate.shape,\"Training_shape:\",X_training.shape,Y_training.shape)"
   ]
  },
  {
   "cell_type": "markdown",
   "metadata": {},
   "source": [
    "# Normalize Training data "
   ]
  },
  {
   "cell_type": "code",
   "execution_count": 33,
   "metadata": {},
   "outputs": [
    {
     "name": "stdout",
     "output_type": "stream",
     "text": [
      "(48830, 510) (5426, 510) (27622, 510)\n"
     ]
    },
    {
     "name": "stderr",
     "output_type": "stream",
     "text": [
      "C:\\Users\\New\\anaconda3\\lib\\site-packages\\ipykernel_launcher.py:3: RuntimeWarning: invalid value encountered in true_divide\n",
      "  This is separate from the ipykernel package so we can avoid doing imports until\n"
     ]
    }
   ],
   "source": [
    "X_training = (X_training[:,:] - X_mean) / (X_std+1e-8)\n",
    "X_validate = (X_validate[:,:] - X_mean) / (X_std+1e-8)\n",
    "X_test = (X_test[:,:] - X_mean) / X_std # test data must normalized with the mean & std of training data\n",
    "print(X_training.shape,X_validate.shape,X_test.shape)"
   ]
  },
  {
   "cell_type": "code",
   "execution_count": 34,
   "metadata": {},
   "outputs": [
    {
     "name": "stdout",
     "output_type": "stream",
     "text": [
      "Size of training data:48830\n",
      "Size of validate data:5426\n",
      "Size of testing data:27622\n",
      "Data dimension:510\n"
     ]
    }
   ],
   "source": [
    "train_size = X_training.shape[0]\n",
    "Validate_size = X_validate.shape[0]\n",
    "test_size = X_test.shape[0]\n",
    "data_dim = X_train.shape[1]\n",
    "\n",
    "print('Size of training data:{}'.format(train_size))\n",
    "print('Size of validate data:{}'.format(Validate_size))\n",
    "print('Size of testing data:{}'.format(test_size))\n",
    "print('Data dimension:{}'.format(data_dim))"
   ]
  },
  {
   "cell_type": "markdown",
   "metadata": {},
   "source": [
    "# Define the function of training"
   ]
  },
  {
   "cell_type": "code",
   "execution_count": 44,
   "metadata": {},
   "outputs": [],
   "source": [
    "import random\n",
    "\n",
    "def _shuffle(X, Y):\n",
    "    # This function shuffles two equal-length list/array, X and Y, together.\n",
    "    randomize = np.arange(len(X))\n",
    "    np.random.shuffle(randomize)\n",
    "    return (X[randomize], Y[randomize])\n",
    "\n",
    "#Randomize the priority of the data\n",
    "def shuffle(X_data,Y_data):\n",
    "    \n",
    "    data_len = X_data.shape[0]\n",
    "    random_pri = []\n",
    "    li = list(range(data_len))\n",
    "    \n",
    "    while len(li)>0 :\n",
    "        \n",
    "        select = random.randint(0,len(li)-1)\n",
    "        random_pri.append(li.pop(select))\n",
    "            \n",
    "    return X_data[random_pri],Y_data[random_pri]\n",
    "\n",
    "#Calculate Cross Entropy of all data\n",
    "def CrossEntorpy(y_train,y_predict):\n",
    "    \n",
    "    return -y_train@np.log(y_predict)-(1-y_train)@np.log(1-y_predict)\n",
    "\n",
    "def sigmoid(z) :\n",
    "    \n",
    "    return np.clip(1/(1+np.exp(-z)),1e-8,1-1e-8)\n",
    "\n",
    "def sigmoid_linearinput(X,w,b):\n",
    "    \n",
    "    linear = X@w+b\n",
    "    return sigmoid(linear)\n",
    "\n",
    "def gradient(y_hat,X,w,b):\n",
    "    \n",
    "    y_pred = sigmoid_linearinput(X,w,b)\n",
    "    return -1*X.T@(y_hat - y_pred) , -1*np.sum(y_hat - y_pred)\n",
    "\n",
    "#Calculate the accuracy of model \n",
    "def accuracy(y_train,y_pred):\n",
    "    \n",
    "    return (1-sum(np.round(np.abs(y_pred-y_train)))/y_train.shape)*100\n",
    "\n",
    "#The main training process\n",
    "def trianing(epoch, train_method, Y_training, Y_validate, X_training, X_validate, w=None, b=None, lr = 0.01, mini_batch_size = 1000):\n",
    "    \n",
    "    # accuracy & loss collecting\n",
    "    Training_accuracy = []\n",
    "    Training_loss = []\n",
    "    Validate_accuracy = []\n",
    "    Validate_loss = []\n",
    "    \n",
    "    #parameter w,b initialize\n",
    "    w = np.zeros(X_training.shape[1])\n",
    "    b = np.zeros(1)\n",
    "    #for Adagrad \n",
    "    G_w = np.zeros(X_training.shape[1])\n",
    "    G_b = np.zeros(1)\n",
    "    eps = 1e-8\n",
    "    #for RMSprop\n",
    "    p = 0.9\n",
    "    #for momentum \n",
    "    mass = 0.01\n",
    "    velocity_w = np.zeros(X_training.shape[1])\n",
    "    velocity_b = np.zeros(1)\n",
    "    \n",
    "    for i in range(epoch):\n",
    "        \n",
    "        _shuffle(X_training,Y_training) # Shuffle the training data to the increase the variation of mini-batch\n",
    "        \n",
    "        for batch_count in range(int(np.floor(X_training.shape[0]/mini_batch_size))+1):\n",
    "            \n",
    "            X = X_training[batch_count*mini_batch_size:(batch_count+1)*mini_batch_size]\n",
    "            Y = Y_training[batch_count*mini_batch_size:(batch_count+1)*mini_batch_size]\n",
    "\n",
    "            if train_method == \"SGD\": \n",
    "                \n",
    "                w_grad , b_grad = gradient(Y,X,w,b)\n",
    "                w = w - lr*w_grad\n",
    "                b = b - lr*b_grad\n",
    "                \n",
    "            if train_method == \"Adagrad\":  \n",
    "                \n",
    "                w_grad , b_grad = gradient(Y,X,w,b)\n",
    "                G_w += w_grad**2\n",
    "                G_b += b_grad**2\n",
    "\n",
    "                w = w - lr/(np.sqrt(G_w+eps))*w_grad\n",
    "                b = b - lr/(np.sqrt(G_b+eps))*b_grad\n",
    "                \n",
    "            if train_method == \"RMSProp\":  \n",
    "                \n",
    "                w_grad , b_grad = gradient(Y,X,w,b)\n",
    "                G_w = p*G_w + (1-p)*w_grad**2\n",
    "                G_b = p*G_b + (1-p)*b_grad**2\n",
    "\n",
    "                w = w - lr/(np.sqrt(G_w+eps))*w_grad\n",
    "                b = b - lr/(np.sqrt(G_b+eps))*b_grad\n",
    "                \n",
    "            if train_method == \"Momentum\":\n",
    "                \n",
    "                w_grad , b_grad = gradient(Y,X,w,b)\n",
    "                velocity_w = mass*velocity_w + lr*w_grad\n",
    "                velocity_b = mass*velocity_b + lr*b_grad\n",
    "                \n",
    "                w = w - velocity_w\n",
    "                b = b - velocity_b\n",
    "                         \n",
    "            if train_method == \"Adams\":\n",
    "                \n",
    "                w_grad , b_grad = gradient(Y,X,w,b)\n",
    "                G_w = p*G_w + (1-p)*w_grad**2\n",
    "                G_b = p*G_b + (1-p)*b_grad**2\n",
    "                velocity_w = mass*velocity_w + (1-mass)*w_grad\n",
    "                velocity_b = mass*velocity_b + (1-mass)*b_grad\n",
    "                \n",
    "                w = w - lr/(np.sqrt((G_w/(1-p))+eps))*(velocity_w/(1-mass))\n",
    "                b = b - lr/(np.sqrt((G_b/(1-p))+eps))*(velocity_b/(1-mass))\n",
    "                \n",
    "            \n",
    "        \n",
    "        # Collect the accuracy & loss of \"training\" data\n",
    "        Train_loss = CrossEntorpy(Y_training , sigmoid_linearinput(X_training,w,b))/X_training.shape[0]\n",
    "        Train_accu = accuracy(Y_training , sigmoid_linearinput(X_training,w,b))\n",
    "        Training_loss.append(Train_loss)\n",
    "        Training_accuracy.append(Train_accu) \n",
    "        \n",
    "        # Collect the accuracy & loss of \"Validate\" data\n",
    "        Valid_loss = CrossEntorpy(Y_validate , sigmoid_linearinput(X_validate,w,b))/X_validate.shape[0]\n",
    "        Valid_accu = accuracy(Y_validate , sigmoid_linearinput(X_validate,w,b))\n",
    "        Validate_loss.append(Valid_loss)\n",
    "        Validate_accuracy.append(Valid_accu)\n",
    "        \n",
    "        print(\"Epoch:\",i,\"Training_loss:\",Train_loss,\"Training_accuracy:\",Train_accu,\"Validate_loss:\",Valid_loss,\"Validate_accuracy:\",Valid_accu)\n",
    "        \n",
    "    return Training_loss ,Training_accuracy ,Validate_loss ,Validate_accuracy\n",
    "        \n",
    "            \n"
   ]
  },
  {
   "cell_type": "code",
   "execution_count": 45,
   "metadata": {},
   "outputs": [
    {
     "name": "stdout",
     "output_type": "stream",
     "text": [
      "Epoch: 0 Training_loss: 0.4883984982428245 Training_accuracy: [80.31128405] Validate_loss: 0.47888312394928856 Validate_accuracy: [80.57500921]\n",
      "Epoch: 1 Training_loss: 0.44023216151260014 Training_accuracy: [83.07188204] Validate_loss: 0.42892964172954884 Validate_accuracy: [83.08145964]\n",
      "Epoch: 2 Training_loss: 0.4046286780030628 Training_accuracy: [84.85971739] Validate_loss: 0.39300597585245695 Validate_accuracy: [84.77699963]\n",
      "Epoch: 3 Training_loss: 0.37601111916290114 Training_accuracy: [85.99631374] Validate_loss: 0.36464539827875 Validate_accuracy: [85.9749355]\n",
      "Epoch: 4 Training_loss: 0.3527191994450806 Training_accuracy: [86.82162605] Validate_loss: 0.3417612601801297 Validate_accuracy: [86.80427571]\n",
      "Epoch: 5 Training_loss: 0.33381977892291886 Training_accuracy: [87.37661274] Validate_loss: 0.32341422209890625 Validate_accuracy: [87.35716919]\n",
      "Epoch: 6 Training_loss: 0.31835195869925353 Training_accuracy: [87.76162195] Validate_loss: 0.30855557451215837 Validate_accuracy: [88.02064136]\n",
      "Epoch: 7 Training_loss: 0.30596063813508584 Training_accuracy: [88.00737252] Validate_loss: 0.296881744718974 Validate_accuracy: [88.1865094]\n",
      "Epoch: 8 Training_loss: 0.29609823443732386 Training_accuracy: [88.18963752] Validate_loss: 0.2876398521938577 Validate_accuracy: [88.40766679]\n",
      "Epoch: 9 Training_loss: 0.2885165467264157 Training_accuracy: [88.24697932] Validate_loss: 0.2806898792282998 Validate_accuracy: [88.4998157]\n",
      "Epoch: 10 Training_loss: 0.2826135628907905 Training_accuracy: [88.28793774] Validate_loss: 0.27537390851015364 Validate_accuracy: [88.64725396]\n",
      "Epoch: 11 Training_loss: 0.2781723229877431 Training_accuracy: [88.36575875] Validate_loss: 0.27157677835767835 Validate_accuracy: [88.59196461]\n",
      "Epoch: 12 Training_loss: 0.2748188959321748 Training_accuracy: [88.39238173] Validate_loss: 0.268855609674928 Validate_accuracy: [88.68411353]\n",
      "Epoch: 13 Training_loss: 0.27242060699144166 Training_accuracy: [88.39442965] Validate_loss: 0.2670630936304729 Validate_accuracy: [88.73940288]\n",
      "Epoch: 14 Training_loss: 0.2707433195356057 Training_accuracy: [88.41695679] Validate_loss: 0.2659376306302076 Validate_accuracy: [88.68411353]\n",
      "Epoch: 15 Training_loss: 0.269660460899867 Training_accuracy: [88.42105263] Validate_loss: 0.26533270207663623 Validate_accuracy: [88.68411353]\n",
      "Epoch: 16 Training_loss: 0.26899537376963245 Training_accuracy: [88.4087651] Validate_loss: 0.2650303872711354 Validate_accuracy: [88.70254331]\n",
      "Epoch: 17 Training_loss: 0.26859009879675916 Training_accuracy: [88.42310055] Validate_loss: 0.2649023402519753 Validate_accuracy: [88.70254331]\n",
      "Epoch: 18 Training_loss: 0.26833465604071594 Training_accuracy: [88.43334016] Validate_loss: 0.2648612992601605 Validate_accuracy: [88.77626244]\n",
      "Epoch: 19 Training_loss: 0.2681682161047735 Training_accuracy: [88.42105263] Validate_loss: 0.2648632664172944 Validate_accuracy: [88.73940288]\n",
      "Epoch: 20 Training_loss: 0.26805637256006226 Training_accuracy: [88.42514847] Validate_loss: 0.26488162710964247 Validate_accuracy: [88.70254331]\n",
      "Epoch: 21 Training_loss: 0.26797876585540487 Training_accuracy: [88.43334016] Validate_loss: 0.2649077581295843 Validate_accuracy: [88.68411353]\n",
      "Epoch: 22 Training_loss: 0.26792383619528976 Training_accuracy: [88.45381937] Validate_loss: 0.2649344170511268 Validate_accuracy: [88.66568374]\n",
      "Epoch: 23 Training_loss: 0.267883658137897 Training_accuracy: [88.45586729] Validate_loss: 0.2649606768889931 Validate_accuracy: [88.68411353]\n",
      "Epoch: 24 Training_loss: 0.26785391950459225 Training_accuracy: [88.45791522] Validate_loss: 0.2649848705562649 Validate_accuracy: [88.72097309]\n",
      "Epoch: 25 Training_loss: 0.26783105616332975 Training_accuracy: [88.45381937] Validate_loss: 0.26500760995874567 Validate_accuracy: [88.72097309]\n",
      "Epoch: 26 Training_loss: 0.26781334076432944 Training_accuracy: [88.45381937] Validate_loss: 0.26502982647286544 Validate_accuracy: [88.70254331]\n",
      "Epoch: 27 Training_loss: 0.26779828305255643 Training_accuracy: [88.45586729] Validate_loss: 0.26505289047873004 Validate_accuracy: [88.70254331]\n",
      "Epoch: 28 Training_loss: 0.2677859886207582 Training_accuracy: [88.45996314] Validate_loss: 0.2650747802938472 Validate_accuracy: [88.70254331]\n",
      "Epoch: 29 Training_loss: 0.26777559948931884 Training_accuracy: [88.45996314] Validate_loss: 0.2650947757490556 Validate_accuracy: [88.70254331]\n",
      "Epoch: 30 Training_loss: 0.2677667452922433 Training_accuracy: [88.4661069] Validate_loss: 0.2651133056231659 Validate_accuracy: [88.70254331]\n",
      "Epoch: 31 Training_loss: 0.2677589537688645 Training_accuracy: [88.46405898] Validate_loss: 0.2651305542170488 Validate_accuracy: [88.70254331]\n",
      "Epoch: 32 Training_loss: 0.26775204954707665 Training_accuracy: [88.46405898] Validate_loss: 0.2651467281697115 Validate_accuracy: [88.70254331]\n",
      "Epoch: 33 Training_loss: 0.26774579604375237 Training_accuracy: [88.46201106] Validate_loss: 0.2651619516814612 Validate_accuracy: [88.70254331]\n",
      "Epoch: 34 Training_loss: 0.2677401010228897 Training_accuracy: [88.4661069] Validate_loss: 0.26517634907205034 Validate_accuracy: [88.72097309]\n",
      "Epoch: 35 Training_loss: 0.26773485242087613 Training_accuracy: [88.4661069] Validate_loss: 0.2651900313732416 Validate_accuracy: [88.72097309]\n",
      "Epoch: 36 Training_loss: 0.26772999771123107 Training_accuracy: [88.46815482] Validate_loss: 0.2652030598496465 Validate_accuracy: [88.72097309]\n",
      "Epoch: 37 Training_loss: 0.26772548849188893 Training_accuracy: [88.46815482] Validate_loss: 0.26521552387079045 Validate_accuracy: [88.72097309]\n",
      "Epoch: 38 Training_loss: 0.26772129287729834 Training_accuracy: [88.46815482] Validate_loss: 0.26522745477524884 Validate_accuracy: [88.72097309]\n",
      "Epoch: 39 Training_loss: 0.2677173906847763 Training_accuracy: [88.4661069] Validate_loss: 0.2652389148249955 Validate_accuracy: [88.72097309]\n",
      "Epoch: 40 Training_loss: 0.26771376042824657 Training_accuracy: [88.46405898] Validate_loss: 0.2652499212231874 Validate_accuracy: [88.73940288]\n",
      "Epoch: 41 Training_loss: 0.2677103929417106 Training_accuracy: [88.46201106] Validate_loss: 0.2652605173412448 Validate_accuracy: [88.73940288]\n",
      "Epoch: 42 Training_loss: 0.2677072715779466 Training_accuracy: [88.46405898] Validate_loss: 0.26527071192047547 Validate_accuracy: [88.73940288]\n",
      "Epoch: 43 Training_loss: 0.26770438833410776 Training_accuracy: [88.45996314] Validate_loss: 0.26528053364734305 Validate_accuracy: [88.73940288]\n",
      "Epoch: 44 Training_loss: 0.26770172828443906 Training_accuracy: [88.46201106] Validate_loss: 0.2652899896687517 Validate_accuracy: [88.73940288]\n",
      "Epoch: 45 Training_loss: 0.2676992810042976 Training_accuracy: [88.46201106] Validate_loss: 0.2652990993730449 Validate_accuracy: [88.73940288]\n",
      "Epoch: 46 Training_loss: 0.26769703155650126 Training_accuracy: [88.45791522] Validate_loss: 0.2653078718202384 Validate_accuracy: [88.73940288]\n",
      "Epoch: 47 Training_loss: 0.2676949666745232 Training_accuracy: [88.45996314] Validate_loss: 0.26531632252129467 Validate_accuracy: [88.73940288]\n",
      "Epoch: 48 Training_loss: 0.26769307128845893 Training_accuracy: [88.45996314] Validate_loss: 0.2653244639530867 Validate_accuracy: [88.75783266]\n",
      "Epoch: 49 Training_loss: 0.26769133108548543 Training_accuracy: [88.46405898] Validate_loss: 0.2653323113736895 Validate_accuracy: [88.75783266]\n"
     ]
    }
   ],
   "source": [
    "Training_loss ,Training_accuracy ,Validate_loss ,Validate_accuracy = trianing(50,\"Adams\", Y_training, Y_validate, X_training, X_validate)"
   ]
  },
  {
   "cell_type": "code",
   "execution_count": 46,
   "metadata": {},
   "outputs": [
    {
     "data": {
      "image/png": "[encoded data removed]",
      "text/plain": [
       "<Figure size 432x288 with 1 Axes>"
      ]
     },
     "metadata": {
      "needs_background": "light"
     },
     "output_type": "display_data"
    },
    {
     "data": {
      "image/png": "[encoded data removed]",
      "text/plain": [
       "<Figure size 432x288 with 1 Axes>"
      ]
     },
     "metadata": {
      "needs_background": "light"
     },
     "output_type": "display_data"
    }
   ],
   "source": [
    "import matplotlib.pyplot as plt\n",
    "\n",
    "# Loss curve\n",
    "plt.plot(Training_loss)\n",
    "plt.plot(Validate_loss)\n",
    "plt.title('Loss')\n",
    "plt.legend(['train', 'valid'])\n",
    "plt.savefig('loss.png')\n",
    "plt.show()\n",
    "\n",
    "# Accuracy curve\n",
    "plt.plot(Training_accuracy)\n",
    "plt.plot(Validate_accuracy)\n",
    "plt.title('Accuracy')\n",
    "plt.legend(['train', 'valid'])\n",
    "plt.savefig('acc.png')\n",
    "plt.show()"
   ]
  },
  {
   "cell_type": "code",
   "execution_count": null,
   "metadata": {},
   "outputs": [],
   "source": []
  }
 ],
 "metadata": {
  "kernelspec": {
   "display_name": "Python 3",
   "language": "python",
   "name": "python3"
  },
  "language_info": {
   "codemirror_mode": {
    "name": "ipython",
    "version": 3
   },
   "file_extension": ".py",
   "mimetype": "text/x-python",
   "name": "python",
   "nbconvert_exporter": "python",
   "pygments_lexer": "ipython3",
   "version": "3.7.6"
  }
 },
 "nbformat": 4,
 "nbformat_minor": 4
}
