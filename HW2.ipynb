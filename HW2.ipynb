{
 "cells": [
  {
   "cell_type": "markdown",
   "metadata": {},
   "source": [
    "# Data input and reshape"
   ]
  },
  {
   "cell_type": "code",
   "execution_count": 16,
   "metadata": {},
   "outputs": [],
   "source": [
    "import numpy as np\n",
    "\n",
    "np.random.seed(0)\n",
    "X_train_fpath = './data/X_train'\n",
    "Y_train_fpath = './data/Y_train'\n",
    "X_test_fpath = './data/X_test'\n",
    "output_fpath = './output_{}.csv'\n",
    "\n",
    "# Totally 54256 (number of data) X 511 (number of feat.)\n",
    "# Parse csv files to numpy array\n",
    "with open(X_train_fpath) as f:\n",
    "    # next() 的原因是不需要 feature 那行 \n",
    "    next(f)\n",
    "    #一行代表一個 data , strip 掉換行符號後,再把每個 data的 feature 弄成 list\n",
    "    X_train = np.array([line.strip('\\n').split(',')[1:] for line in f], dtype = float)\n",
    "with open(Y_train_fpath) as f:\n",
    "    next(f)\n",
    "    Y_train = np.array([line.strip('\\n').split(',')[1] for line in f], dtype = float)\n",
    "with open(X_test_fpath) as f:\n",
    "    next(f)\n",
    "    X_test = np.array([line.strip('\\n').split(',')[1:] for line in f], dtype = float)\n",
    "    \n",
    "\n",
    "X_mean = np.mean(X_train[:,:],axis=0).reshape(1,-1) #reshpae(1,-1) 代表 row 搞成一列 , column -1 的意思是 column 數自動補齊計算.\n",
    "X_std = np.std(X_train[:,:],axis=0).reshape(1,-1)\n",
    "\n"
   ]
  },
  {
   "cell_type": "markdown",
   "metadata": {},
   "source": [
    "# Split validate data"
   ]
  },
  {
   "cell_type": "code",
   "execution_count": 17,
   "metadata": {},
   "outputs": [
    {
     "name": "stdout",
     "output_type": "stream",
     "text": [
      "Validate_shape: (5426, 510) (5426,) Training_shape: (48830, 510) (48830,)\n"
     ]
    }
   ],
   "source": [
    "Split_ratio = 0.1\n",
    "Validate_len = int(np.round(Split_ratio*X_train.shape[0]))\n",
    "\n",
    "X_validate = X_train[:Validate_len,:]\n",
    "Y_validate = Y_train[:Validate_len]\n",
    "X_training = X_train[Validate_len:,:]\n",
    "Y_training = Y_train[Validate_len:]\n",
    "\n",
    "print (\"Validate_shape:\",X_validate.shape,Y_validate.shape,\"Training_shape:\",X_training.shape,Y_training.shape)"
   ]
  },
  {
   "cell_type": "markdown",
   "metadata": {},
   "source": [
    "# Normalize Training data "
   ]
  },
  {
   "cell_type": "code",
   "execution_count": 18,
   "metadata": {},
   "outputs": [
    {
     "name": "stdout",
     "output_type": "stream",
     "text": [
      "(48830, 510) (5426, 510) (27622, 510)\n"
     ]
    },
    {
     "name": "stderr",
     "output_type": "stream",
     "text": [
      "C:\\Users\\New\\anaconda3\\lib\\site-packages\\ipykernel_launcher.py:3: RuntimeWarning: invalid value encountered in true_divide\n",
      "  This is separate from the ipykernel package so we can avoid doing imports until\n"
     ]
    }
   ],
   "source": [
    "X_training = (X_training[:,:] - X_mean) / (X_std+1e-8)\n",
    "X_validate = (X_validate[:,:] - X_mean) / (X_std+1e-8)\n",
    "X_test = (X_test[:,:] - X_mean) / X_std # test data must normalized with the mean & std of training data\n",
    "print(X_training.shape,X_validate.shape,X_test.shape)"
   ]
  },
  {
   "cell_type": "code",
   "execution_count": 19,
   "metadata": {},
   "outputs": [
    {
     "name": "stdout",
     "output_type": "stream",
     "text": [
      "Size of training data:48830\n",
      "Size of validate data:5426\n",
      "Size of testing data:27622\n",
      "Data dimension:510\n"
     ]
    }
   ],
   "source": [
    "train_size = X_training.shape[0]\n",
    "Validate_size = X_validate.shape[0]\n",
    "test_size = X_test.shape[0]\n",
    "data_dim = X_train.shape[1]\n",
    "\n",
    "print('Size of training data:{}'.format(train_size))\n",
    "print('Size of validate data:{}'.format(Validate_size))\n",
    "print('Size of testing data:{}'.format(test_size))\n",
    "print('Data dimension:{}'.format(data_dim))"
   ]
  },
  {
   "cell_type": "markdown",
   "metadata": {},
   "source": [
    "# Define the function of training"
   ]
  },
  {
   "cell_type": "code",
   "execution_count": 119,
   "metadata": {},
   "outputs": [],
   "source": [
    "import random\n",
    "\n",
    "def _shuffle(X, Y):\n",
    "    # This function shuffles two equal-length list/array, X and Y, together.\n",
    "    randomize = np.arange(len(X))\n",
    "    np.random.shuffle(randomize)\n",
    "    return (X[randomize], Y[randomize])\n",
    "\n",
    "#Randomize the priority of the data\n",
    "def shuffle(X_data,Y_data):\n",
    "    \n",
    "    data_len = X_data.shape[0]\n",
    "    random_pri = []\n",
    "    li = list(range(data_len))\n",
    "    \n",
    "    while len(li)>0 :\n",
    "        \n",
    "        select = random.randint(0,len(li)-1)\n",
    "        random_pri.append(li.pop(select))\n",
    "            \n",
    "    return X_data[random_pri],Y_data[random_pri]\n",
    "\n",
    "#Calculate Cross Entropy of all data\n",
    "def CrossEntorpy(y_train,y_predict):\n",
    "    \n",
    "    return -y_train@np.log(y_predict)-(1-y_train)@np.log(1-y_predict)\n",
    "\n",
    "def sigmoid(z) :\n",
    "    \n",
    "    return np.clip(1/(1+np.exp(-z)),1e-8,1-1e-8)\n",
    "\n",
    "def sigmoid_linearinput(X,w,b):\n",
    "    \n",
    "    linear = X@w+b\n",
    "    return sigmoid(linear)\n",
    "\n",
    "def gradient(y_hat,X,w,b):\n",
    "    \n",
    "    y_pred = sigmoid_linearinput(X,w,b)\n",
    "    return -1*X.T@(y_hat - y_pred) , -1*np.sum(y_hat - y_pred)\n",
    "\n",
    "#Calculate the accuracy of model \n",
    "def accuracy(y_train,y_pred):\n",
    "    \n",
    "    return (1-sum(np.round(np.abs(y_pred-y_train)))/y_train.shape)*100\n",
    "\n",
    "#The main training process\n",
    "def trianing(epoch, train_method, Y_training, Y_validate, X_training, X_validate, w=None, b=None, lr = 0.05, mini_batch_size = 1000):\n",
    "    \n",
    "    # accuracy & loss collecting\n",
    "    Training_accuracy = []\n",
    "    Training_loss = []\n",
    "    Validate_accuracy = []\n",
    "    Validate_loss = []\n",
    "    \n",
    "    #parameter w,b initialize\n",
    "    w = np.zeros(X_training.shape[1])\n",
    "    b = np.zeros(1)\n",
    "    #for Adagrad \n",
    "    G_w = np.zeros(X_training.shape[1])\n",
    "    G_b = np.zeros(1)\n",
    "    eps = 1e-8\n",
    "    #for RMSprop\n",
    "    p = 0.9\n",
    "    #for momentum \n",
    "    mass = 0.01\n",
    "    velocity_w = np.zeros(X_training.shape[1])\n",
    "    velocity_b = np.zeros(1)\n",
    "    \n",
    "    for i in range(epoch):\n",
    "        \n",
    "        _shuffle(X_training,Y_training) # Shuffle the training data to the increase the variation of mini-batch\n",
    "        \n",
    "        for batch_count in range(int(np.floor(X_training.shape[0]/mini_batch_size))+1):\n",
    "            \n",
    "            X = X_training[batch_count*mini_batch_size:(batch_count+1)*mini_batch_size]\n",
    "            Y = Y_training[batch_count*mini_batch_size:(batch_count+1)*mini_batch_size]\n",
    "\n",
    "            if train_method == \"SGD\": \n",
    "                \n",
    "                w_grad , b_grad = gradient(Y,X,w,b)\n",
    "                w = w - lr*w_grad\n",
    "                b = b - lr*b_grad\n",
    "                \n",
    "            if train_method == \"Adagrad\":  \n",
    "                \n",
    "                w_grad , b_grad = gradient(Y,X,w,b)\n",
    "                G_w += w_grad**2\n",
    "                G_b += b_grad**2\n",
    "\n",
    "                w = w - lr/(np.sqrt(G_w+eps))*w_grad\n",
    "                b = b - lr/(np.sqrt(G_b+eps))*b_grad\n",
    "                \n",
    "            if train_method == \"RMSProp\":  \n",
    "                \n",
    "                w_grad , b_grad = gradient(Y,X,w,b)\n",
    "                G_w = p*np.mean(G_w) + (1-p)*w_grad**2\n",
    "                G_b = p*np.mean(G_b) + (1-p)*b_grad**2\n",
    "\n",
    "                w = w - lr/(np.sqrt(G_w+eps))*w_grad\n",
    "                b = b - lr/(np.sqrt(G_b+eps))*b_grad\n",
    "                \n",
    "            if train_method == \"Momentum\":\n",
    "                \n",
    "                w_grad , b_grad = gradient(Y,X,w,b)\n",
    "                velocity_w = mass*velocity_w + lr*w_grad\n",
    "                velocity_b = mass*velocity_b + lr*b_grad\n",
    "                \n",
    "                w = w - velocity_w\n",
    "                b = b - velocity_b\n",
    "                         \n",
    "            if train_method == \"Adams\":\n",
    "                None\n",
    "                \n",
    "            \n",
    "        \n",
    "        # Collect the accuracy & loss of \"training\" data\n",
    "        Train_loss = CrossEntorpy(Y_training , sigmoid_linearinput(X_training,w,b))/X_training.shape[0]\n",
    "        Train_accu = accuracy(Y_training , sigmoid_linearinput(X_training,w,b))\n",
    "        Training_loss.append(Train_loss)\n",
    "        Training_accuracy.append(Train_accu) \n",
    "        \n",
    "        # Collect the accuracy & loss of \"Validate\" data\n",
    "        Valid_loss = CrossEntorpy(Y_validate , sigmoid_linearinput(X_validate,w,b))/X_validate.shape[0]\n",
    "        Valid_accu = accuracy(Y_validate , sigmoid_linearinput(X_validate,w,b))\n",
    "        Validate_loss.append(Valid_loss)\n",
    "        Validate_accuracy.append(Valid_accu)\n",
    "        \n",
    "        print(\"Epoch:\",i,\"Training_loss:\",Train_loss,\"Training_accuracy:\",Train_accu,\"Validate_loss:\",Valid_loss,\"Validate_accuracy:\",Valid_accu)\n",
    "        \n",
    "    return Training_loss ,Training_accuracy ,Validate_loss ,Validate_accuracy\n",
    "        \n",
    "            \n"
   ]
  },
  {
   "cell_type": "code",
   "execution_count": 120,
   "metadata": {},
   "outputs": [
    {
     "name": "stdout",
     "output_type": "stream",
     "text": [
      "Epoch: 0 Training_loss: 0.3599205058419187 Training_accuracy: [84.59143969] Validate_loss: 0.3401189466241446 Validate_accuracy: [85.18245485]\n",
      "Epoch: 1 Training_loss: 0.31981138143567833 Training_accuracy: [86.7212779] Validate_loss: 0.30824235528344346 Validate_accuracy: [86.87799484]\n",
      "Epoch: 2 Training_loss: 0.3406269103281209 Training_accuracy: [86.22772886] Validate_loss: 0.3297848921530088 Validate_accuracy: [86.67526723]\n",
      "Epoch: 3 Training_loss: 0.32021538860666987 Training_accuracy: [86.77657178] Validate_loss: 0.31203812962299454 Validate_accuracy: [87.11758201]\n",
      "Epoch: 4 Training_loss: 0.3377849402606447 Training_accuracy: [86.42023346] Validate_loss: 0.32627142936344655 Validate_accuracy: [86.7121268]\n",
      "Epoch: 5 Training_loss: 0.3220058803602828 Training_accuracy: [86.77247594] Validate_loss: 0.3124460302159056 Validate_accuracy: [87.04386288]\n",
      "Epoch: 6 Training_loss: 0.33709288183339686 Training_accuracy: [86.42842515] Validate_loss: 0.3271858119351696 Validate_accuracy: [86.67526723]\n",
      "Epoch: 7 Training_loss: 0.32117823793081324 Training_accuracy: [86.78885931] Validate_loss: 0.31327152581194057 Validate_accuracy: [87.08072245]\n",
      "Epoch: 8 Training_loss: 0.33929575348801955 Training_accuracy: [86.4140897] Validate_loss: 0.3278675353808699 Validate_accuracy: [86.67526723]\n",
      "Epoch: 9 Training_loss: 0.32238330048869507 Training_accuracy: [86.76838009] Validate_loss: 0.31327542081098986 Validate_accuracy: [86.98857353]\n",
      "Epoch: 10 Training_loss: 0.33730714023404973 Training_accuracy: [86.41613762] Validate_loss: 0.32786547259576043 Validate_accuracy: [86.7121268]\n",
      "Epoch: 11 Training_loss: 0.3216685092060523 Training_accuracy: [86.78476347] Validate_loss: 0.3139501931488084 Validate_accuracy: [87.0254331]\n",
      "Epoch: 12 Training_loss: 0.3391018554450269 Training_accuracy: [86.39565841] Validate_loss: 0.32850589892336984 Validate_accuracy: [86.61997788]\n",
      "Epoch: 13 Training_loss: 0.3227109108075657 Training_accuracy: [86.77042802] Validate_loss: 0.3140109466124963 Validate_accuracy: [87.0254331]\n",
      "Epoch: 14 Training_loss: 0.336457419340686 Training_accuracy: [86.42228138] Validate_loss: 0.3279465046869311 Validate_accuracy: [86.74898636]\n",
      "Epoch: 15 Training_loss: 0.3219279758070823 Training_accuracy: [86.77247594] Validate_loss: 0.3147256286197384 Validate_accuracy: [86.97014375]\n"
     ]
    },
    {
     "ename": "KeyboardInterrupt",
     "evalue": "",
     "output_type": "error",
     "traceback": [
      "\u001b[1;31m---------------------------------------------------------------------------\u001b[0m",
      "\u001b[1;31mKeyboardInterrupt\u001b[0m                         Traceback (most recent call last)",
      "\u001b[1;32m<ipython-input-120-5612e4deb797>\u001b[0m in \u001b[0;36m<module>\u001b[1;34m\u001b[0m\n\u001b[1;32m----> 1\u001b[1;33m \u001b[0mTraining_loss\u001b[0m \u001b[1;33m,\u001b[0m\u001b[0mTraining_accuracy\u001b[0m \u001b[1;33m,\u001b[0m\u001b[0mValidate_loss\u001b[0m \u001b[1;33m,\u001b[0m\u001b[0mValidate_accuracy\u001b[0m \u001b[1;33m=\u001b[0m \u001b[0mtrianing\u001b[0m\u001b[1;33m(\u001b[0m\u001b[1;36m50\u001b[0m\u001b[1;33m,\u001b[0m\u001b[1;34m\"RMSProp\"\u001b[0m\u001b[1;33m,\u001b[0m \u001b[0mY_training\u001b[0m\u001b[1;33m,\u001b[0m \u001b[0mY_validate\u001b[0m\u001b[1;33m,\u001b[0m \u001b[0mX_training\u001b[0m\u001b[1;33m,\u001b[0m \u001b[0mX_validate\u001b[0m\u001b[1;33m)\u001b[0m\u001b[1;33m\u001b[0m\u001b[1;33m\u001b[0m\u001b[0m\n\u001b[0m",
      "\u001b[1;32m<ipython-input-119-993d6ea2c624>\u001b[0m in \u001b[0;36mtrianing\u001b[1;34m(epoch, train_method, Y_training, Y_validate, X_training, X_validate, w, b, lr, mini_batch_size)\u001b[0m\n\u001b[0;32m     94\u001b[0m             \u001b[1;32mif\u001b[0m \u001b[0mtrain_method\u001b[0m \u001b[1;33m==\u001b[0m \u001b[1;34m\"RMSProp\"\u001b[0m\u001b[1;33m:\u001b[0m\u001b[1;33m\u001b[0m\u001b[1;33m\u001b[0m\u001b[0m\n\u001b[0;32m     95\u001b[0m \u001b[1;33m\u001b[0m\u001b[0m\n\u001b[1;32m---> 96\u001b[1;33m                 \u001b[0mw_grad\u001b[0m \u001b[1;33m,\u001b[0m \u001b[0mb_grad\u001b[0m \u001b[1;33m=\u001b[0m \u001b[0mgradient\u001b[0m\u001b[1;33m(\u001b[0m\u001b[0mY\u001b[0m\u001b[1;33m,\u001b[0m\u001b[0mX\u001b[0m\u001b[1;33m,\u001b[0m\u001b[0mw\u001b[0m\u001b[1;33m,\u001b[0m\u001b[0mb\u001b[0m\u001b[1;33m)\u001b[0m\u001b[1;33m\u001b[0m\u001b[1;33m\u001b[0m\u001b[0m\n\u001b[0m\u001b[0;32m     97\u001b[0m                 \u001b[0mG_w\u001b[0m \u001b[1;33m=\u001b[0m \u001b[0mp\u001b[0m\u001b[1;33m*\u001b[0m\u001b[0mnp\u001b[0m\u001b[1;33m.\u001b[0m\u001b[0mmean\u001b[0m\u001b[1;33m(\u001b[0m\u001b[0mG_w\u001b[0m\u001b[1;33m)\u001b[0m \u001b[1;33m+\u001b[0m \u001b[1;33m(\u001b[0m\u001b[1;36m1\u001b[0m\u001b[1;33m-\u001b[0m\u001b[0mp\u001b[0m\u001b[1;33m)\u001b[0m\u001b[1;33m*\u001b[0m\u001b[0mw_grad\u001b[0m\u001b[1;33m**\u001b[0m\u001b[1;36m2\u001b[0m\u001b[1;33m\u001b[0m\u001b[1;33m\u001b[0m\u001b[0m\n\u001b[0;32m     98\u001b[0m                 \u001b[0mG_b\u001b[0m \u001b[1;33m=\u001b[0m \u001b[0mp\u001b[0m\u001b[1;33m*\u001b[0m\u001b[0mnp\u001b[0m\u001b[1;33m.\u001b[0m\u001b[0mmean\u001b[0m\u001b[1;33m(\u001b[0m\u001b[0mG_b\u001b[0m\u001b[1;33m)\u001b[0m \u001b[1;33m+\u001b[0m \u001b[1;33m(\u001b[0m\u001b[1;36m1\u001b[0m\u001b[1;33m-\u001b[0m\u001b[0mp\u001b[0m\u001b[1;33m)\u001b[0m\u001b[1;33m*\u001b[0m\u001b[0mb_grad\u001b[0m\u001b[1;33m**\u001b[0m\u001b[1;36m2\u001b[0m\u001b[1;33m\u001b[0m\u001b[1;33m\u001b[0m\u001b[0m\n",
      "\u001b[1;32m<ipython-input-119-993d6ea2c624>\u001b[0m in \u001b[0;36mgradient\u001b[1;34m(y_hat, X, w, b)\u001b[0m\n\u001b[0;32m     38\u001b[0m \u001b[1;33m\u001b[0m\u001b[0m\n\u001b[0;32m     39\u001b[0m     \u001b[0my_pred\u001b[0m \u001b[1;33m=\u001b[0m \u001b[0msigmoid_linearinput\u001b[0m\u001b[1;33m(\u001b[0m\u001b[0mX\u001b[0m\u001b[1;33m,\u001b[0m\u001b[0mw\u001b[0m\u001b[1;33m,\u001b[0m\u001b[0mb\u001b[0m\u001b[1;33m)\u001b[0m\u001b[1;33m\u001b[0m\u001b[1;33m\u001b[0m\u001b[0m\n\u001b[1;32m---> 40\u001b[1;33m     \u001b[1;32mreturn\u001b[0m \u001b[1;33m-\u001b[0m\u001b[1;36m1\u001b[0m\u001b[1;33m*\u001b[0m\u001b[0mX\u001b[0m\u001b[1;33m.\u001b[0m\u001b[0mT\u001b[0m\u001b[1;33m@\u001b[0m\u001b[1;33m(\u001b[0m\u001b[0my_hat\u001b[0m \u001b[1;33m-\u001b[0m \u001b[0my_pred\u001b[0m\u001b[1;33m)\u001b[0m \u001b[1;33m,\u001b[0m \u001b[1;33m-\u001b[0m\u001b[1;36m1\u001b[0m\u001b[1;33m*\u001b[0m\u001b[0mnp\u001b[0m\u001b[1;33m.\u001b[0m\u001b[0msum\u001b[0m\u001b[1;33m(\u001b[0m\u001b[0my_hat\u001b[0m \u001b[1;33m-\u001b[0m \u001b[0my_pred\u001b[0m\u001b[1;33m)\u001b[0m\u001b[1;33m\u001b[0m\u001b[1;33m\u001b[0m\u001b[0m\n\u001b[0m\u001b[0;32m     41\u001b[0m \u001b[1;33m\u001b[0m\u001b[0m\n\u001b[0;32m     42\u001b[0m \u001b[1;31m#Calculate the accuracy of model\u001b[0m\u001b[1;33m\u001b[0m\u001b[1;33m\u001b[0m\u001b[1;33m\u001b[0m\u001b[0m\n",
      "\u001b[1;31mKeyboardInterrupt\u001b[0m: "
     ]
    }
   ],
   "source": [
    "Training_loss ,Training_accuracy ,Validate_loss ,Validate_accuracy = trianing(50,\"RMSProp\", Y_training, Y_validate, X_training, X_validate)"
   ]
  },
  {
   "cell_type": "code",
   "execution_count": 114,
   "metadata": {},
   "outputs": [
    {
     "data": {
      "image/png": "[encoded data removed]",
      "text/plain": [
       "<Figure size 432x288 with 1 Axes>"
      ]
     },
     "metadata": {
      "needs_background": "light"
     },
     "output_type": "display_data"
    },
    {
     "data": {
      "image/png": "[encoded data removed]",
      "text/plain": [
       "<Figure size 432x288 with 1 Axes>"
      ]
     },
     "metadata": {
      "needs_background": "light"
     },
     "output_type": "display_data"
    }
   ],
   "source": [
    "import matplotlib.pyplot as plt\n",
    "\n",
    "# Loss curve\n",
    "plt.plot(Training_loss)\n",
    "plt.plot(Validate_loss)\n",
    "plt.title('Loss')\n",
    "plt.legend(['train', 'valid'])\n",
    "plt.savefig('loss.png')\n",
    "plt.show()\n",
    "\n",
    "# Accuracy curve\n",
    "plt.plot(Training_accuracy)\n",
    "plt.plot(Validate_accuracy)\n",
    "plt.title('Accuracy')\n",
    "plt.legend(['train', 'valid'])\n",
    "plt.savefig('acc.png')\n",
    "plt.show()"
   ]
  },
  {
   "cell_type": "code",
   "execution_count": null,
   "metadata": {},
   "outputs": [],
   "source": []
  }
 ],
 "metadata": {
  "kernelspec": {
   "display_name": "Python 3",
   "language": "python",
   "name": "python3"
  },
  "language_info": {
   "codemirror_mode": {
    "name": "ipython",
    "version": 3
   },
   "file_extension": ".py",
   "mimetype": "text/x-python",
   "name": "python",
   "nbconvert_exporter": "python",
   "pygments_lexer": "ipython3",
   "version": "3.7.6"
  }
 },
 "nbformat": 4,
 "nbformat_minor": 4
}
