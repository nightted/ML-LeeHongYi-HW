{
 "cells": [
  {
   "cell_type": "code",
   "execution_count": 76,
   "metadata": {},
   "outputs": [
    {
     "data": {
      "text/plain": [
       "tensor([[ 14.0000,  14.0000,  14.0000,  ...,  15.0000,  15.0000,  15.0000],\n",
       "        [  1.8000,   1.8000,   1.8000,  ...,   1.8000,   1.8000,   1.8000],\n",
       "        [  0.5100,   0.4100,   0.3900,  ...,   0.3500,   0.3600,   0.3200],\n",
       "        ...,\n",
       "        [ 36.0000,  55.0000,  72.0000,  ..., 118.0000, 100.0000, 105.0000],\n",
       "        [  1.9000,   2.4000,   1.9000,  ...,   1.5000,   2.0000,   2.0000],\n",
       "        [  0.7000,   0.8000,   1.8000,  ...,   1.6000,   1.8000,   2.0000]],\n",
       "       dtype=torch.float64)"
      ]
     },
     "execution_count": 76,
     "metadata": {},
     "output_type": "execute_result"
    }
   ],
   "source": [
    "import sys\n",
    "import pandas as pd\n",
    "import numpy as np\n",
    "import torch\n",
    "\n",
    "data = pd.read_csv('./train.csv', encoding = 'big5')\n",
    "data = data.iloc[:, 3:]\n",
    "data[ data ==  \"NR\" ]  = 0\n",
    "data = data.to_numpy().astype(np.float)\n",
    "rawdata = torch.from_numpy(data)\n",
    "\n"
   ]
  },
  {
   "cell_type": "code",
   "execution_count": 82,
   "metadata": {},
   "outputs": [
    {
     "data": {
      "text/plain": [
       "tensor([[ 14.0000,   1.8000,   0.5100,  ...,  36.0000,   1.9000,   0.7000],\n",
       "        [ 14.0000,   1.8000,   0.4100,  ...,  55.0000,   2.4000,   0.8000],\n",
       "        [ 14.0000,   1.8000,   0.3900,  ...,  72.0000,   1.9000,   1.8000],\n",
       "        ...,\n",
       "        [ 15.0000,   1.8000,   0.3500,  ..., 118.0000,   1.5000,   1.6000],\n",
       "        [ 15.0000,   1.8000,   0.3600,  ..., 100.0000,   2.0000,   1.8000],\n",
       "        [ 15.0000,   1.8000,   0.3200,  ..., 105.0000,   2.0000,   2.0000]],\n",
       "       dtype=torch.float64)"
      ]
     },
     "execution_count": 82,
     "metadata": {},
     "output_type": "execute_result"
    }
   ],
   "source": []
  },
  {
   "cell_type": "code",
   "execution_count": null,
   "metadata": {},
   "outputs": [],
   "source": []
  }
 ],
 "metadata": {
  "kernelspec": {
   "display_name": "Python 3",
   "language": "python",
   "name": "python3"
  },
  "language_info": {
   "codemirror_mode": {
    "name": "ipython",
    "version": 3
   },
   "file_extension": ".py",
   "mimetype": "text/x-python",
   "name": "python",
   "nbconvert_exporter": "python",
   "pygments_lexer": "ipython3",
   "version": "3.7.6"
  }
 },
 "nbformat": 4,
 "nbformat_minor": 4
}
